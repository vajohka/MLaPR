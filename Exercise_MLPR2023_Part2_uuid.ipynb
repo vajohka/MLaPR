{
 "cells": [
  {
   "cell_type": "markdown",
   "id": "48574939",
   "metadata": {},
   "source": [
    "This is the template for the image recognition exercise. <Br>\n",
    "Some **general instructions**, read these carefully:\n",
    " - The final assignment is returned as a clear and understandable *report*\n",
    "    - define shortly the concepts and explain the phases you use\n",
    "    - use the Markdown feature of the notebook for larger explanations\n",
    " - return your output as a *working* Jupyter notebook\n",
    " - name your file as Exercise_MLPR2023_Partx_uuid.jpynb\n",
    "    - use the uuid code determined below\n",
    "    - use this same code for each part of the assignment\n",
    " - write easily readable code with comments     \n",
    "     - if you exploit code from web, provide a reference\n",
    " - it is ok to discuss with a friend about the assignment. But it is not ok to copy someone's work. Everyone should submit their own implementation\n",
    "     - in case of identical submissions, both submissions are failed "
   ]
  },
  {
   "cell_type": "markdown",
   "id": "0bfbc2b3",
   "metadata": {},
   "source": [
    "**Deadlines:**\n",
    "- Part 1: Mon 6.2 at 23:59**\n",
    "- Part 2: Mon 20.2 at 23:59**\n",
    "- Part 3: Mon 6.3 at 23:59**\n",
    "\n",
    "**No extensions for the deadlines** <br>\n",
    "- after each deadline, example results are given, and it is not possible to submit anymore\n",
    "\n",
    "**If you encounter problems, Google first and if you can’t find an answer, ask for help**\n",
    "- Moodle area for questions\n",
    "- pekavir@utu.fi\n",
    "- teacher available for questions\n",
    "    - Monday 30.1 at 14:00-15:00 room 407B Honka (Agora 4th floor)\n",
    "    - Monday 13.2 at 14:00-15:00 room 407B Honka (Agora 4th floor)\n",
    "    - Thursday 2.3 at lecture 10:15-12:00 "
   ]
  },
  {
   "cell_type": "markdown",
   "id": "ea03f4ab",
   "metadata": {},
   "source": [
    "**Grading**\n",
    "\n",
    "The exercise covers a part of the grading in this course. The course exam has 5 questions, 6 points of each. Exercise gives 6 points, i.e. the total score is 36 points.\n",
    "\n",
    "From the template below, you can see how many exercise points can be acquired from each task. Exam points are given according to the table below: <br>\n",
    "<br>\n",
    "7 exercise points: 1 exam point <br>\n",
    "8 exercise points: 2 exam points <br>\n",
    "9 exercise points: 3 exam points <br>\n",
    "10 exercise points: 4 exam points <br>\n",
    "11 exercise points: 5 exam points <br>\n",
    "12 exercise points: 6 exam points <br>\n",
    "<br>\n",
    "To pass the exercise, you need at least 7 exercise points, and at least 1 exercise point from each Part.\n",
    "    \n",
    "Each student will grade one submission from a peer and their own submission. After each Part deadline, example results are given. Study them carefully and perform the grading according to the given instructions. Mean value from the peer grading and self-grading is used for the final points. "
   ]
  },
  {
   "cell_type": "code",
   "execution_count": 1,
   "id": "20913a7e",
   "metadata": {},
   "outputs": [
    {
     "name": "stdout",
     "output_type": "stream",
     "text": [
      "The id code is: 04ef8a8b-a142-11ed-a371-70a8d3975279\n"
     ]
    }
   ],
   "source": [
    "import uuid\n",
    "# Run this cell only once and save the code. Use the same id code for each Part.\n",
    "# Printing random id using uuid1()\n",
    "print (\"The id code is: \",end=\"\")\n",
    "print (uuid.uuid1())"
   ]
  },
  {
   "cell_type": "markdown",
   "id": "fb9b2c64",
   "metadata": {},
   "source": [
    "# Part 1"
   ]
  },
  {
   "cell_type": "markdown",
   "id": "86c0dc30",
   "metadata": {},
   "source": [
    "Read the original research article:\n",
    "\n",
    "İ. Çınar and M. Koklu. Identification of rice varieties using machine learning algorithms. Journal of Agricultural Sciences, 28(2):307–325, 2022. doi: 10.15832/ankutbd.862482.\n",
    "\n",
    "https://dergipark.org.tr/en/download/article-file/1513632"
   ]
  },
  {
   "cell_type": "markdown",
   "id": "3ce21d52",
   "metadata": {},
   "source": [
    "## Introduction"
   ]
  },
  {
   "cell_type": "markdown",
   "id": "35ca8979",
   "metadata": {},
   "source": [
    "Will be written in Part 3"
   ]
  },
  {
   "cell_type": "markdown",
   "id": "6f605da2",
   "metadata": {},
   "source": [
    "## Preparations of the data (1 p)"
   ]
  },
  {
   "cell_type": "markdown",
   "id": "bd900472",
   "metadata": {},
   "source": [
    "Make three folders in your working folder: \"notebooks\", \"data\" and \"training_data\". Save this notebook in \"notebooks\" folder.\n",
    "<br> <br>\n",
    "Perform preparations for the data\n",
    "- import all the packages needed for this notebook in one cell\n",
    "- import the images. Data can be found from (downloading starts as you press the link) https://www.muratkoklu.com/datasets/vtdhnd09.php <br>\n",
    "    - save the data folders \"Arborio\", \"Basmati\" and \"Jasmine\" in \"data\" folder\n",
    "- take a random sample of 100 images from Arborio, Basmati and Jasmine rice species (i.e. 300 images in total)\n",
    "- determine the contour of each rice (you can use e.g. *findContours* from OpenCV)\n",
    "- plot one example image of each rice species, including the contour"
   ]
  },
  {
   "cell_type": "markdown",
   "id": "b8386fd1",
   "metadata": {},
   "source": [
    "## Feature extraction (2 p)"
   ]
  },
  {
   "cell_type": "markdown",
   "id": "83cc994d",
   "metadata": {},
   "source": [
    "Gather the feature data <br>\n",
    "<br>\n",
    "Color features (15) <br>\n",
    "- Calculate the following color features for each image, including only the pixels within the contour (you can use e.g. *pointPolygonTest* from OpenCV)\n",
    "    - Mean for each RGB color channel\n",
    "    - Variance for each RGB color channel\n",
    "    - Skewness for each RGB color channel\n",
    "    - Kurtosis for each RGB color channel\n",
    "    - Entropy for each RGB color channel\n",
    "    \n",
    "Dimension features (6) <br>\n",
    "- Fit an ellipse to the contour points (you can use e.g. *fitEllipse* from OpenCV)\n",
    "- Plot one example image of each rice species including the fitted ellipse\n",
    "- Calculate the following features for each image (for details, see the original article)\n",
    "    - the major axis length the ellipse\n",
    "    - the minor axis length of the ellipse\n",
    "    - area inside the contour (you can use e.g. *contourArea* from OpenCV)\n",
    "    - perimeter of the contour (you can use e.g. *arcLength* from OpenCV)\n",
    "    - roundness\n",
    "    - aspect ratio\n",
    "    \n",
    "Gather all the features in one array or dataframe: one data point in one row, including all feature values in columns. <br>\n",
    "For each data point, include also information of the original image and the label (rice species). Save the data in \"training_data\" folder."
   ]
  },
  {
   "cell_type": "markdown",
   "id": "e34c454f",
   "metadata": {},
   "source": [
    "# Part 2"
   ]
  },
  {
   "cell_type": "markdown",
   "id": "3728f6f8",
   "metadata": {},
   "source": [
    "## Data exploration (2 p)"
   ]
  },
  {
   "cell_type": "markdown",
   "id": "8bee256e",
   "metadata": {},
   "source": [
    "- Standardize the data\n",
    "- Plot a boxplot of each feature\n",
    "- Plot histogram of each feature, use a different color for each class\n",
    "- Plot pairplot (each feature against each feature and the label against each feature)\n",
    "- Discuss your findings from the above figures, e.g. can you spot features which might be very useful in predicting the correct class? \n",
    "- Fit PCA using two components\n",
    "- Plot the PCA figure with two components, color the data points according to their species\n",
    "- Can you see any clusters in PCA? Does this figure give you any clues, how well you will be able to classify the image types? Explain.\n",
    "- How many PCA components are needed to cover 99% of the variance?\n",
    "- Make clear figures, use titles and legends for clarification"
   ]
  },
  {
   "cell_type": "markdown",
   "id": "d9b8ab18",
   "metadata": {},
   "source": [
    "## Model selection (2 p)"
   ]
  },
  {
   "cell_type": "markdown",
   "id": "559d4dbb",
   "metadata": {},
   "source": [
    "Select the best model for each classifier. Use 5-fold repeated cross validation with 3 repetitions (*RepeatedKFold* from sklearn). You can choose the hyperparameter ranges to use (i.e. from which values the best hyperparameters are selected if they are not stated below.) <br>\n",
    "\n",
    "- k Nearest Neighbors classifier: hyperparameter k\n",
    "- random forest: hyperparameters max_depth and max_features\n",
    "- MLP: use one hidden layer and Early stopping. Hyperparameters:\n",
    "    - number of neurons in the hidden layer\n",
    "    - activation function: logistic sigmoid function and rectified linear unit function\n",
    "    - solver: stochastic gradient descent and adam\n",
    "    - validation_fraction: 0.1 and 0.5\n",
    "\n",
    "For each classifier:\n",
    "- Report the best hyperparameter or the best combination of hyperparameters. <br>\n",
    "- Plot the accuracy versus the hyperparameter/hyperparameter combination and highlight the best value. <br>\n",
    "\n",
    "For random forest model, report the feature importance for each feature. Which features seem to be the most important? Does this correspond with the observations you made in the data exploration? <br>\n",
    "Ponder the model selection process. What things should be considered when selecting the model to be used?"
   ]
  },
  {
   "cell_type": "code",
   "execution_count": null,
   "id": "10c19e87",
   "metadata": {},
   "outputs": [],
   "source": []
  }
 ],
 "metadata": {
  "kernelspec": {
   "display_name": "Python [conda env:env1]",
   "language": "python",
   "name": "conda-env-env1-py"
  },
  "language_info": {
   "codemirror_mode": {
    "name": "ipython",
    "version": 3
   },
   "file_extension": ".py",
   "mimetype": "text/x-python",
   "name": "python",
   "nbconvert_exporter": "python",
   "pygments_lexer": "ipython3",
   "version": "3.10.5"
  },
  "toc": {
   "base_numbering": 1,
   "nav_menu": {},
   "number_sections": true,
   "sideBar": true,
   "skip_h1_title": false,
   "title_cell": "Table of Contents",
   "title_sidebar": "Contents",
   "toc_cell": false,
   "toc_position": {
    "height": "calc(100% - 180px)",
    "left": "10px",
    "top": "150px",
    "width": "232px"
   },
   "toc_section_display": true,
   "toc_window_display": false
  }
 },
 "nbformat": 4,
 "nbformat_minor": 5
}
