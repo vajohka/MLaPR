{
 "cells": [
  {
   "cell_type": "markdown",
   "id": "48574939",
   "metadata": {},
   "source": [
    "This is the template for the image recognition exercise. <Br>\n",
    "Some **general instructions**, read these carefully:\n",
    " - The final assignment is returned as a clear and understandable *report*\n",
    "    - define shortly the concepts and explain the phases you use\n",
    "    - use the Markdown feature of the notebook for larger explanations\n",
    " - return your output as a *working* Jupyter notebook\n",
    " - name your file as Exercise_MLPR2023_Partx_uuid.jpynb\n",
    "    - use the uuid code determined below\n",
    "    - use this same code for each part of the assignment\n",
    " - write easily readable code with comments     \n",
    "     - if you exploit code from web, provide a reference\n",
    " - it is ok to discuss with a friend about the assignment. But it is not ok to copy someone's work. Everyone should submit their own implementation\n",
    "     - in case of identical submissions, both submissions are failed "
   ]
  },
  {
   "cell_type": "markdown",
   "id": "0bfbc2b3",
   "metadata": {},
   "source": [
    "**Deadlines:**\n",
    "- Part 1: Mon 6.2 at 23:59**\n",
    "- Part 2: Mon 20.2 at 23:59**\n",
    "- Part 3: Mon 6.3 at 23:59**\n",
    "\n",
    "**No extensions for the deadlines** <br>\n",
    "- after each deadline, example results are given, and it is not possible to submit anymore\n",
    "\n",
    "**If you encounter problems, Google first and if you can’t find an answer, ask for help**\n",
    "- Moodle area for questions\n",
    "- pekavir@utu.fi\n",
    "- teacher available for questions on Mondays 30.1, 13.2 (after lecture) and Thursday 2.3 (at lecture)"
   ]
  },
  {
   "cell_type": "markdown",
   "id": "ea03f4ab",
   "metadata": {},
   "source": [
    "**Grading**\n",
    "\n",
    "The exercise covers a part of the grading in this course. The course exam has 5 questions, 6 points of each. Exercise gives 6 points, i.e. the total score is 36 points.\n",
    "\n",
    "From the template below, you can see how many exercise points can be acquired from each task. Exam points are given according to the table below: <br>\n",
    "<br>\n",
    "7 exercise points: 1 exam point <br>\n",
    "8 exercise points: 2 exam points <br>\n",
    "9 exercise points: 3 exam points <br>\n",
    "10 exercise points: 4 exam points <br>\n",
    "11 exercise points: 5 exam points <br>\n",
    "12 exercise points: 6 exam points <br>\n",
    "<br>\n",
    "To pass the exercise, you need at least 7 exercise points, and at least 1 exercise point from each Part.\n",
    "    \n",
    "Each student will grade one submission from a peer and their own submission. After each Part deadline, example results are given. Study them carefully and perform the grading according to the given instructions. Mean value from the peer grading and self-grading is used for the final points. "
   ]
  },
  {
   "cell_type": "code",
   "execution_count": null,
   "id": "20913a7e",
   "metadata": {},
   "outputs": [],
   "source": [
    "import uuid\n",
    "\n",
    "# Run this cell only once and save the code. Use the same id code for each Part.\n",
    "# Printing random id using uuid1()\n",
    "# print (\"The id code is: \",end=\"\")\n",
    "# print (uuid.uuid1())\n"
   ]
  },
  {
   "cell_type": "markdown",
   "id": "3ce21d52",
   "metadata": {},
   "source": [
    "# Introduction (1 p)"
   ]
  },
  {
   "cell_type": "markdown",
   "id": "35ca8979",
   "metadata": {},
   "source": [
    "Write an introductory chapter for your report\n",
    "<br>\n",
    "- Explain what is the purpose of this task?\n",
    "- Describe, what kind of data were used? Where did it originate? Give correct reference.\n",
    "- Which methods did you use?\n",
    "- Describe shortly the results"
   ]
  },
  {
   "cell_type": "markdown",
   "id": "9d49e7d2",
   "metadata": {},
   "source": [
    "# Part 2"
   ]
  },
  {
   "cell_type": "markdown",
   "id": "cbec0706",
   "metadata": {},
   "source": [
    "Data exploration and model selection"
   ]
  },
  {
   "cell_type": "markdown",
   "id": "9d85ec88",
   "metadata": {},
   "source": [
    "# Part 3"
   ]
  },
  {
   "cell_type": "markdown",
   "id": "d973b1d7",
   "metadata": {},
   "source": [
    "## Performance estimation (2 p)"
   ]
  },
  {
   "cell_type": "markdown",
   "id": "3929defa",
   "metadata": {},
   "source": [
    "Use the previously gathered data (again, use the standardized features). <br>\n",
    "Estimate the performance of each model using nested cross validation. Use 10-fold cross validation for outer and <br>\n",
    "5-fold repeated cross validation with 3 repetitions for inner loop.  <br> \n",
    "Select the best model in the inner loop using the hyperparameter combinations and ranges defined in the Part 2. <br>\n",
    "For each model, calculate the accuracy and the confusion matrix. <br> \n",
    "Which hyperparameter/hyperparameter combination is most often chosen as the best one for each classifier? "
   ]
  },
  {
   "cell_type": "code",
   "execution_count": null,
   "id": "466990b4",
   "metadata": {},
   "outputs": [],
   "source": [
    "import joblib\n",
    "import numpy\n",
    "from sklearn.model_selection import RepeatedKFold\n",
    "from sklearn.model_selection import KFold\n",
    "from sklearn.ensemble import RandomForestClassifier\n",
    "from sklearn.neighbors import KNeighborsClassifier\n",
    "from sklearn.neural_network import MLPClassifier\n",
    "from sklearn.model_selection import GridSearchCV\n",
    "from sklearn.metrics import accuracy_score\n",
    "from statistics import mean\n",
    "from statistics import stdev\n"
   ]
  },
  {
   "cell_type": "code",
   "execution_count": null,
   "id": "8a6a0b75",
   "metadata": {},
   "outputs": [],
   "source": [
    "best_params_score_model_kNN = joblib.load(filename=\"./best_model_kNN.joblib\")\n",
    "best_params_score_model_RFC = joblib.load(filename=\"./best_model_rfc.joblib\")\n",
    "best_params_score_model_MLP = joblib.load(filename=\"./best_model_mlp.joblib\")\n",
    "\n",
    "X_train = joblib.load(filename=\"./X_train.joblib\")\n",
    "Y_train = joblib.load(filename=\"./Y_train.joblib\")\n"
   ]
  },
  {
   "cell_type": "code",
   "execution_count": null,
   "id": "5c839eed",
   "metadata": {},
   "outputs": [],
   "source": [
    "# Preparing cross-validation validator with given parameters for outer loop\n",
    "cv_outer = KFold(n_splits=10)\n"
   ]
  },
  {
   "cell_type": "code",
   "execution_count": null,
   "id": "e5396638",
   "metadata": {},
   "outputs": [],
   "source": [
    "outer_results = list()\n",
    "\n",
    "for train_outer_X, test_outer_X in cv_outer.split(X_train):\n",
    "    # define model and search space for kNN\n",
    "    model_kNN = KNeighborsClassifier()\n",
    "    space_kNN = dict()\n",
    "    space_kNN[\"n_neighbors\"] = [i for i in range(1, 16)]\n",
    "\n",
    "    # define model and search space for RandomForestClassifier\n",
    "    model_RFC = RandomForestClassifier()\n",
    "    space_RFC = dict()\n",
    "    space_RFC[\"max_features\"] = [i for i in range(1, 8)]\n",
    "    space_RFC[\"max_depth\"] = [i for i in range(1, 8)] + [None]\n",
    "\n",
    "    # define model and search space for MLP\n",
    "    model_MLP = MLPClassifier()\n",
    "    space_MLP = dict()\n",
    "    space_MLP[\"hidden_layer_sizes\"] = [i for i in range(1, 16)]\n",
    "    space_MLP[\"activation\"] = [\"logistic\", \"relu\"]\n",
    "    space_MLP[\"solver\"] = [\"sgd\", \"adam\"]\n",
    "    space_MLP[\"early_stopping\"] = [True]\n",
    "    space_MLP[\"validation_fraction\"] = [0.1, 0.5]\n",
    "    space_MLP[\"max_iter\"] = [2000]\n",
    "\n",
    "    def execute_gridSearchCV(outer_results, train_outer_X, test_outer_X, model, space):\n",
    "        print(1)\n",
    "        # Split the data\n",
    "        X_train_inner, X_test_inner = X_train[train_outer_X, :], X_train[test_outer_X, :]\n",
    "        Y_train_inner, Y_test_inner = Y_train[train_outer_X], Y_train[test_outer_X]\n",
    "        \n",
    "        print(2)\n",
    "        # Preparing cross-validation validator with given parameters for outer loop\n",
    "        cv_inner = RepeatedKFold(n_splits=5, n_repeats=3)\n",
    "\n",
    "        print(3)\n",
    "        # configure GridSearch\n",
    "        search = GridSearchCV(\n",
    "            model, space, scoring=\"accuracy\", cv=cv_inner, refit=True\n",
    "        )\n",
    "\n",
    "        print(4)\n",
    "        result = search.fit(X_train_inner, Y_train_inner)\n",
    "        print(4.1)\n",
    "        best_performing_model = result.best_estimator_\n",
    "        print(4.2)\n",
    "        prediction = best_performing_model.predict(X_test_inner)\n",
    "        print(4.3)\n",
    "        accuracy = accuracy_score(Y_test_inner, prediction)\n",
    "        print(4.4)\n",
    "        outer_results.append(accuracy)\n",
    "\n",
    "        print(5)\n",
    "        # report progress\n",
    "        print(\"Score for: \", model)\n",
    "        print(\n",
    "            \">acc=%.3f, est=%.3f, cfg=%s\"\n",
    "            % (accuracy, result.best_score_, result.best_params_)\n",
    "        )\n",
    "\n",
    "    execute_gridSearchCV(\n",
    "        outer_results, train_outer_X, test_outer_X, model_kNN, space_kNN\n",
    "    )\n",
    "    execute_gridSearchCV(\n",
    "        outer_results, train_outer_X, test_outer_X, model_RFC, space_RFC\n",
    "    )\n",
    "    execute_gridSearchCV(\n",
    "        outer_results, train_outer_X, test_outer_X, model_MLP, space_MLP\n",
    "    )\n",
    "\n",
    "# summarize the estimated performance of the model\n",
    "print(\"Accuracy: %.3f (%.3f)\" % (mean(outer_results), stdev(outer_results)))\n"
   ]
  },
  {
   "cell_type": "code",
   "execution_count": 39,
   "id": "013dbcfa",
   "metadata": {},
   "outputs": [],
   "source": [
    "def execute_GridSearch(outer_results, train_outer_X, test_outer_X, model, space):\n",
    "\n",
    "    # Split the data\n",
    "    X_train_inner, X_test_inner = X_train[train_outer_X, :], X_train[test_outer_X, :]\n",
    "    Y_train_inner, Y_test_inner = Y_train[train_outer_X], Y_train[test_outer_X]\n",
    "    \n",
    "    # Preparing cross-validation validator with given parameters for outer loop\n",
    "    cv_inner = RepeatedKFold(n_splits=5, n_repeats=3)\n",
    "\n",
    "    # configure GridSearch\n",
    "    search = GridSearchCV(\n",
    "        model, space, scoring=\"accuracy\", cv=cv_inner, refit=True\n",
    "    )\n",
    "\n",
    "    result = search.fit(X_train_inner, Y_train_inner)\n",
    "\n",
    "    # Refitted best model\n",
    "    best_performing_model = result.best_estimator_\n",
    "\n",
    "    # Evaluate the selected model\n",
    "    prediction = best_performing_model.predict(X_test_inner)\n",
    "    accuracy = accuracy_score(Y_test_inner, prediction)\n",
    "    outer_results.append(accuracy)\n",
    "\n",
    "    # report progress\n",
    "    print(\"Score for: \", model.__class__.__name__)\n",
    "    print(\n",
    "        \"> Accuracy = %.3f, Mean CV-score = %.3f\" % (accuracy, result.best_score_), \"\\n\" \"Best parameters =  %s\" \n",
    "        % (result.best_params_)\n",
    "    )\n",
    "    print()"
   ]
  },
  {
   "cell_type": "code",
   "execution_count": 40,
   "id": "d026d730",
   "metadata": {},
   "outputs": [
    {
     "name": "stdout",
     "output_type": "stream",
     "text": [
      "Score for:  KNeighborsClassifier\n",
      "> Accuracy = 1.000, Mean CV-score = 0.941 \n",
      "Best parameters =  {'n_neighbors': 4}\n",
      "\n",
      "Score for:  KNeighborsClassifier\n",
      "> Accuracy = 1.000, Mean CV-score = 0.941 \n",
      "Best parameters =  {'n_neighbors': 4}\n",
      "\n",
      "Score for:  KNeighborsClassifier\n",
      "> Accuracy = 1.000, Mean CV-score = 0.951 \n",
      "Best parameters =  {'n_neighbors': 1}\n",
      "\n",
      "Score for:  KNeighborsClassifier\n",
      "> Accuracy = 0.967, Mean CV-score = 0.951 \n",
      "Best parameters =  {'n_neighbors': 1}\n",
      "\n",
      "Score for:  KNeighborsClassifier\n",
      "> Accuracy = 0.900, Mean CV-score = 0.960 \n",
      "Best parameters =  {'n_neighbors': 2}\n",
      "\n",
      "Score for:  KNeighborsClassifier\n",
      "> Accuracy = 0.900, Mean CV-score = 0.954 \n",
      "Best parameters =  {'n_neighbors': 5}\n",
      "\n",
      "Score for:  KNeighborsClassifier\n",
      "> Accuracy = 0.933, Mean CV-score = 0.947 \n",
      "Best parameters =  {'n_neighbors': 5}\n",
      "\n",
      "Score for:  KNeighborsClassifier\n",
      "> Accuracy = 0.867, Mean CV-score = 0.941 \n",
      "Best parameters =  {'n_neighbors': 2}\n",
      "\n",
      "Score for:  KNeighborsClassifier\n",
      "> Accuracy = 0.933, Mean CV-score = 0.962 \n",
      "Best parameters =  {'n_neighbors': 1}\n",
      "\n",
      "Score for:  KNeighborsClassifier\n",
      "> Accuracy = 0.933, Mean CV-score = 0.943 \n",
      "Best parameters =  {'n_neighbors': 3}\n",
      "\n",
      "Accuracy: 0.943 (0.047)\n"
     ]
    }
   ],
   "source": [
    "outer_results = list()\n",
    "\n",
    "for train_outer_X, test_outer_X in cv_outer.split(X_train):\n",
    "    # define model and search space for kNN\n",
    "    model_kNN = KNeighborsClassifier()\n",
    "    space_kNN = dict()\n",
    "    space_kNN[\"n_neighbors\"] = [i for i in range(1, 16)]\n",
    "\n",
    "    execute_GridSearch(outer_results, train_outer_X, test_outer_X, model_kNN, space_kNN)\n",
    "\n",
    "# summarize the estimated performance of the model\n",
    "print(\"Accuracy for kNN: %.3f (%.3f)\" % (mean(outer_results), stdev(outer_results)))"
   ]
  },
  {
   "cell_type": "code",
   "execution_count": 29,
   "id": "a4d338e5",
   "metadata": {},
   "outputs": [
    {
     "name": "stdout",
     "output_type": "stream",
     "text": [
      "Score for:  RandomForestClassifier()\n",
      ">acc=1.000, est=0.969, cfg={'max_depth': 5, 'max_features': 5}\n",
      "\n",
      "Score for:  RandomForestClassifier()\n",
      ">acc=1.000, est=0.974, cfg={'max_depth': None, 'max_features': 7}\n",
      "\n",
      "Score for:  RandomForestClassifier()\n",
      ">acc=0.967, est=0.978, cfg={'max_depth': None, 'max_features': 3}\n",
      "\n",
      "Score for:  RandomForestClassifier()\n",
      ">acc=1.000, est=0.975, cfg={'max_depth': 5, 'max_features': 3}\n",
      "\n",
      "Score for:  RandomForestClassifier()\n",
      ">acc=0.967, est=0.985, cfg={'max_depth': 6, 'max_features': 6}\n",
      "\n",
      "Score for:  RandomForestClassifier()\n",
      ">acc=0.833, est=0.981, cfg={'max_depth': 4, 'max_features': 7}\n",
      "\n",
      "Score for:  RandomForestClassifier()\n",
      ">acc=0.967, est=0.981, cfg={'max_depth': 7, 'max_features': 4}\n",
      "\n",
      "Score for:  RandomForestClassifier()\n",
      ">acc=0.967, est=0.986, cfg={'max_depth': 7, 'max_features': 3}\n",
      "\n",
      "Score for:  RandomForestClassifier()\n",
      ">acc=1.000, est=0.975, cfg={'max_depth': 6, 'max_features': 7}\n",
      "\n",
      "Score for:  RandomForestClassifier()\n",
      ">acc=1.000, est=0.978, cfg={'max_depth': 6, 'max_features': 6}\n",
      "\n",
      "Accuracy: 0.970 (0.051)\n"
     ]
    }
   ],
   "source": [
    "outer_results = list()\n",
    "\n",
    "for train_outer_X, test_outer_X in cv_outer.split(X_train):\n",
    "\n",
    "    # define model and search space for RandomForestClassifier\n",
    "    model_RFC = RandomForestClassifier()\n",
    "    space_RFC = dict()\n",
    "    space_RFC[\"max_features\"] = [i for i in range(1, 8)]\n",
    "    space_RFC[\"max_depth\"] = [i for i in range(1, 8)] + [None]\n",
    "\n",
    "    execute_GridSearch(outer_results, train_outer_X, test_outer_X, model_RFC, space_RFC)\n",
    "\n",
    "# summarize the estimated performance of the model\n",
    "print(\"Accuracy for RFC: %.3f (%.3f)\" % (mean(outer_results), stdev(outer_results)))"
   ]
  },
  {
   "cell_type": "code",
   "execution_count": 30,
   "id": "5c376763",
   "metadata": {},
   "outputs": [
    {
     "name": "stdout",
     "output_type": "stream",
     "text": [
      "Score for:  MLPClassifier()\n",
      ">acc=0.867, est=0.741, cfg={'activation': 'relu', 'early_stopping': True, 'hidden_layer_sizes': 15, 'max_iter': 2000, 'solver': 'adam', 'validation_fraction': 0.5}\n",
      "\n",
      "Score for:  MLPClassifier()\n",
      ">acc=0.800, est=0.722, cfg={'activation': 'relu', 'early_stopping': True, 'hidden_layer_sizes': 14, 'max_iter': 2000, 'solver': 'adam', 'validation_fraction': 0.5}\n",
      "\n",
      "Score for:  MLPClassifier()\n",
      ">acc=0.967, est=0.763, cfg={'activation': 'relu', 'early_stopping': True, 'hidden_layer_sizes': 14, 'max_iter': 2000, 'solver': 'adam', 'validation_fraction': 0.5}\n",
      "\n",
      "Score for:  MLPClassifier()\n",
      ">acc=0.800, est=0.767, cfg={'activation': 'relu', 'early_stopping': True, 'hidden_layer_sizes': 12, 'max_iter': 2000, 'solver': 'adam', 'validation_fraction': 0.5}\n",
      "\n",
      "Score for:  MLPClassifier()\n",
      ">acc=0.900, est=0.786, cfg={'activation': 'relu', 'early_stopping': True, 'hidden_layer_sizes': 14, 'max_iter': 2000, 'solver': 'adam', 'validation_fraction': 0.5}\n",
      "\n",
      "Score for:  MLPClassifier()\n",
      ">acc=0.700, est=0.774, cfg={'activation': 'relu', 'early_stopping': True, 'hidden_layer_sizes': 14, 'max_iter': 2000, 'solver': 'adam', 'validation_fraction': 0.5}\n",
      "\n",
      "Score for:  MLPClassifier()\n",
      ">acc=0.833, est=0.754, cfg={'activation': 'relu', 'early_stopping': True, 'hidden_layer_sizes': 15, 'max_iter': 2000, 'solver': 'adam', 'validation_fraction': 0.5}\n",
      "\n",
      "Score for:  MLPClassifier()\n",
      ">acc=0.733, est=0.733, cfg={'activation': 'relu', 'early_stopping': True, 'hidden_layer_sizes': 13, 'max_iter': 2000, 'solver': 'sgd', 'validation_fraction': 0.5}\n",
      "\n",
      "Score for:  MLPClassifier()\n",
      ">acc=0.633, est=0.809, cfg={'activation': 'relu', 'early_stopping': True, 'hidden_layer_sizes': 14, 'max_iter': 2000, 'solver': 'adam', 'validation_fraction': 0.5}\n",
      "\n",
      "Score for:  MLPClassifier()\n",
      ">acc=0.467, est=0.788, cfg={'activation': 'relu', 'early_stopping': True, 'hidden_layer_sizes': 15, 'max_iter': 2000, 'solver': 'adam', 'validation_fraction': 0.5}\n",
      "\n",
      "Accuracy: 0.770 (0.144)\n"
     ]
    }
   ],
   "source": [
    "outer_results = list()\n",
    "\n",
    "for train_outer_X, test_outer_X in cv_outer.split(X_train):\n",
    "\n",
    "    # define model and search space for MLP\n",
    "    model_MLP = MLPClassifier()\n",
    "    space_MLP = dict()\n",
    "    space_MLP[\"hidden_layer_sizes\"] = [i for i in range(1, 16)]\n",
    "    space_MLP[\"activation\"] = [\"logistic\", \"relu\"]\n",
    "    space_MLP[\"solver\"] = [\"sgd\", \"adam\"]\n",
    "    space_MLP[\"early_stopping\"] = [True]\n",
    "    space_MLP[\"validation_fraction\"] = [0.1, 0.5]\n",
    "    space_MLP[\"max_iter\"] = [2000]\n",
    "\n",
    "    execute_GridSearch(outer_results, train_outer_X, test_outer_X, model_MLP, space_MLP)\n",
    "\n",
    "# summarize the estimated performance of the model\n",
    "print(\"Accuracy for RFC: %.3f (%.3f)\" % (mean(outer_results), stdev(outer_results)))"
   ]
  },
  {
   "cell_type": "markdown",
   "id": "85f896a1",
   "metadata": {},
   "source": [
    "## Discussion (2 p)"
   ]
  },
  {
   "cell_type": "markdown",
   "id": "18c6e2e9",
   "metadata": {},
   "source": [
    "Discuss you results\n",
    "\n",
    "- Which model performs the best? Why?\n",
    "- Ponder the limitations and generalization of the models. How well will the classifiers perform for data outside this data set?\n",
    "- Compare your results with the original article. Are they comparable?\n",
    "- Ponder applications for these type of models (classifying rice or other plant species), who could benefit from them? Ponder also what would be interesting to study more on this area?\n",
    "- What did you learn? What was difficult? Could you improve your own working process in some way?"
   ]
  }
 ],
 "metadata": {
  "kernelspec": {
   "display_name": "Python 3",
   "language": "python",
   "name": "python3"
  },
  "language_info": {
   "codemirror_mode": {
    "name": "ipython",
    "version": 3
   },
   "file_extension": ".py",
   "mimetype": "text/x-python",
   "name": "python",
   "nbconvert_exporter": "python",
   "pygments_lexer": "ipython3",
   "version": "3.11.0rc1"
  },
  "toc": {
   "base_numbering": 1,
   "nav_menu": {},
   "number_sections": true,
   "sideBar": true,
   "skip_h1_title": false,
   "title_cell": "Table of Contents",
   "title_sidebar": "Contents",
   "toc_cell": false,
   "toc_position": {
    "height": "calc(100% - 180px)",
    "left": "10px",
    "top": "150px",
    "width": "232px"
   },
   "toc_section_display": true,
   "toc_window_display": true
  },
  "vscode": {
   "interpreter": {
    "hash": "ead1b95f633dc9c51826328e1846203f51a198c6fb5f2884a80417ba131d4e82"
   }
  }
 },
 "nbformat": 4,
 "nbformat_minor": 5
}
